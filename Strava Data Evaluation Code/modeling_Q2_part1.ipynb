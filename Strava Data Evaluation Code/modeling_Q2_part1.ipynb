{
 "cells": [
  {
   "cell_type": "code",
   "execution_count": 1,
   "metadata": {},
   "outputs": [],
   "source": [
    "# Imports Librares necessary for Modeling Q2\n",
    "import pandas as pd\n",
    "from scipy import stats\n",
    "import matplotlib.pyplot as plt\n",
    "%matplotlib inline  "
   ]
  },
  {
   "cell_type": "code",
   "execution_count": 2,
   "metadata": {},
   "outputs": [],
   "source": [
    "# Reads in cleaned csv file\n",
    "df = pd.read_csv('a3clean_data.csv')"
   ]
  },
  {
   "cell_type": "code",
   "execution_count": 3,
   "metadata": {},
   "outputs": [],
   "source": [
    "# Selecting the relevant columns to measure efficiency\n",
    "clean = df[['distance', 'elapsed_time', 'kilojoules',\n",
    "            'location_country', 'moving_time', 'type_Ride']]"
   ]
  },
  {
   "cell_type": "code",
   "execution_count": 4,
   "metadata": {},
   "outputs": [
    {
     "name": "stderr",
     "output_type": "stream",
     "text": [
      "/anaconda3/lib/python3.6/site-packages/ipykernel_launcher.py:2: SettingWithCopyWarning: \n",
      "A value is trying to be set on a copy of a slice from a DataFrame.\n",
      "Try using .loc[row_indexer,col_indexer] = value instead\n",
      "\n",
      "See the caveats in the documentation: http://pandas.pydata.org/pandas-docs/stable/indexing.html#indexing-view-versus-copy\n",
      "  \n"
     ]
    }
   ],
   "source": [
    "# Converting distance to kilometers (new column)\n",
    "clean['distance_kilometers'] = clean.apply(lambda row: row.distance * 0.001, axis=1)"
   ]
  },
  {
   "cell_type": "code",
   "execution_count": 5,
   "metadata": {},
   "outputs": [],
   "source": [
    "# Selecting rows with workout as bike rides and dropping rows with no kilojoule values\n",
    "clean = clean.loc[clean['type_Ride'] == 1]\n",
    "clean = clean.dropna(subset = ['kilojoules'])"
   ]
  },
  {
   "cell_type": "code",
   "execution_count": 6,
   "metadata": {},
   "outputs": [],
   "source": [
    "# Creating column for scoring for efficiency \n",
    "clean['efficiency_score'] = clean.apply(lambda row: (row.kilojoules / row.distance_kilometers) * \n",
    "                                        (row.moving_time / row.elapsed_time), axis=1)"
   ]
  },
  {
   "cell_type": "code",
   "execution_count": 7,
   "metadata": {},
   "outputs": [
    {
     "data": {
      "text/html": [
       "<div>\n",
       "<style scoped>\n",
       "    .dataframe tbody tr th:only-of-type {\n",
       "        vertical-align: middle;\n",
       "    }\n",
       "\n",
       "    .dataframe tbody tr th {\n",
       "        vertical-align: top;\n",
       "    }\n",
       "\n",
       "    .dataframe thead th {\n",
       "        text-align: right;\n",
       "    }\n",
       "</style>\n",
       "<table border=\"1\" class=\"dataframe\">\n",
       "  <thead>\n",
       "    <tr style=\"text-align: right;\">\n",
       "      <th></th>\n",
       "      <th>index</th>\n",
       "      <th>location_country</th>\n",
       "    </tr>\n",
       "  </thead>\n",
       "  <tbody>\n",
       "    <tr>\n",
       "      <th>0</th>\n",
       "      <td>United States</td>\n",
       "      <td>917</td>\n",
       "    </tr>\n",
       "    <tr>\n",
       "      <th>1</th>\n",
       "      <td>United Kingdom</td>\n",
       "      <td>744</td>\n",
       "    </tr>\n",
       "    <tr>\n",
       "      <th>2</th>\n",
       "      <td>Australia</td>\n",
       "      <td>308</td>\n",
       "    </tr>\n",
       "    <tr>\n",
       "      <th>3</th>\n",
       "      <td>Brazil</td>\n",
       "      <td>164</td>\n",
       "    </tr>\n",
       "    <tr>\n",
       "      <th>4</th>\n",
       "      <td>Netherlands</td>\n",
       "      <td>120</td>\n",
       "    </tr>\n",
       "    <tr>\n",
       "      <th>5</th>\n",
       "      <td>Spain</td>\n",
       "      <td>101</td>\n",
       "    </tr>\n",
       "    <tr>\n",
       "      <th>6</th>\n",
       "      <td>France</td>\n",
       "      <td>93</td>\n",
       "    </tr>\n",
       "    <tr>\n",
       "      <th>7</th>\n",
       "      <td>Italy</td>\n",
       "      <td>83</td>\n",
       "    </tr>\n",
       "    <tr>\n",
       "      <th>8</th>\n",
       "      <td>Canada</td>\n",
       "      <td>77</td>\n",
       "    </tr>\n",
       "    <tr>\n",
       "      <th>9</th>\n",
       "      <td>Germany</td>\n",
       "      <td>63</td>\n",
       "    </tr>\n",
       "  </tbody>\n",
       "</table>\n",
       "</div>"
      ],
      "text/plain": [
       "            index  location_country\n",
       "0   United States               917\n",
       "1  United Kingdom               744\n",
       "2       Australia               308\n",
       "3          Brazil               164\n",
       "4     Netherlands               120\n",
       "5           Spain               101\n",
       "6          France                93\n",
       "7           Italy                83\n",
       "8          Canada                77\n",
       "9         Germany                63"
      ]
     },
     "execution_count": 7,
     "metadata": {},
     "output_type": "execute_result"
    }
   ],
   "source": [
    "# Looking for countries with bike rides > 50\n",
    "pd.value_counts(clean.location_country).to_frame().reset_index().head(10)"
   ]
  },
  {
   "cell_type": "code",
   "execution_count": 8,
   "metadata": {},
   "outputs": [],
   "source": [
    "# Creating seperate data frames for each country and their efficiency scores\n",
    "united_states = clean.loc[clean['location_country'] == 'United States'].reset_index()['efficiency_score']\n",
    "united_kingdom = clean.loc[clean['location_country'] == 'United Kingdom'].reset_index()['efficiency_score']\n",
    "australia = clean.loc[clean['location_country'] == 'Australia'].reset_index()['efficiency_score']\n",
    "brazil = clean.loc[clean['location_country'] == 'Brazil'].reset_index()['efficiency_score']\n",
    "netherlands = clean.loc[clean['location_country'] == 'Netherlands'].reset_index()['efficiency_score']\n",
    "spain = clean.loc[clean['location_country'] == 'Spain'].reset_index()['efficiency_score']\n",
    "france = clean.loc[clean['location_country'] == 'France'].reset_index()['efficiency_score']\n",
    "italy = clean.loc[clean['location_country'] == 'Italy'].reset_index()['efficiency_score']\n",
    "canada = clean.loc[clean['location_country'] == 'Canada'].reset_index()['efficiency_score']\n",
    "germany = clean.loc[clean['location_country'] == 'Germany'].reset_index()['efficiency_score']"
   ]
  },
  {
   "cell_type": "code",
   "execution_count": 9,
   "metadata": {},
   "outputs": [],
   "source": [
    "# Storing all max efficiency scores for countries \n",
    "max_combined = [max(united_states), max(united_kingdom),  max(australia), max(brazil),\n",
    "            max(netherlands), max(spain), max(france), max(italy), max(canada), max(germany)]\n",
    "\n",
    "# Storing all min efficiency scores for countries \n",
    "min_combined = [min(united_states), min(united_kingdom),  min(australia), min(brazil),\n",
    "            min(netherlands), min(spain), min(france), min(italy), min(canada), min(germany)]"
   ]
  },
  {
   "cell_type": "code",
   "execution_count": 10,
   "metadata": {},
   "outputs": [],
   "source": [
    "#Finding global min and max efficiencies out of countries selected\n",
    "max_efficiency = max(max_combined)\n",
    "min_efficiency = min(min_combined)"
   ]
  },
  {
   "cell_type": "code",
   "execution_count": 11,
   "metadata": {},
   "outputs": [],
   "source": [
    "#Scaling countries efficiency scores on a scale of 1-100\n",
    "united_states = ((united_states -  min_efficiency) /  (max_efficiency - min_efficiency)) * 100\n",
    "united_kingdom = ((united_kingdom -  min_efficiency) /  (max_efficiency - min_efficiency)) * 100\n",
    "australia = ((australia -  min_efficiency) /  (max_efficiency - min_efficiency)) * 100\n",
    "brazil = ((brazil -  min_efficiency) /  (max_efficiency - min_efficiency)) * 100\n",
    "netherlands = ((netherlands - min_efficiency ) /  (max_efficiency - min_efficiency)) * 100\n",
    "spain = ((spain -  min_efficiency) /  (max_efficiency - min_efficiency)) * 100\n",
    "france = ((france -  min_efficiency) /  (max_efficiency - min_efficiency)) * 100\n",
    "italy = ((italy -  min_efficiency) /  (max_efficiency - min_efficiency)) * 100\n",
    "canada = ((canada -  min_efficiency) /  (max_efficiency - min_efficiency)) * 100\n",
    "germany = ((germany -  min_efficiency) /  (max_efficiency - min_efficiency)) * 100"
   ]
  },
  {
   "cell_type": "code",
   "execution_count": 12,
   "metadata": {},
   "outputs": [],
   "source": [
    "# Stored dataframes for each country\n",
    "countries = [united_states, united_kingdom, australia, brazil, netherlands, spain,\n",
    "             france, italy, canada, germany]\n",
    "\n",
    "# Stores Countries names\n",
    "country_names = ['United States', 'United Kingdom', 'Australia', 'Brazil', 'Netherlands', 'Spain',\n",
    "             'France', 'Italy', 'Canada', 'Germany']\n",
    "\n",
    "# Storing new max efficiecny values\n",
    "max_combined = [max(united_states), max(united_kingdom),  max(australia), max(brazil),\n",
    "            max(netherlands), max(spain), max(france), max(italy), max(canada), max(germany)]\n",
    "\n",
    "# Storing new min efficiecny values\n",
    "min_combined = [min(united_states), min(united_kingdom),  min(australia), min(brazil),\n",
    "            min(netherlands), min(spain), min(france), min(italy), min(canada), min(germany)]"
   ]
  },
  {
   "cell_type": "code",
   "execution_count": 13,
   "metadata": {},
   "outputs": [
    {
     "name": "stdout",
     "output_type": "stream",
     "text": [
      "100.0\n",
      "0.0\n"
     ]
    }
   ],
   "source": [
    "#Checking if the sclaing worked\n",
    "max_efficiency = max(max_combined)\n",
    "min_efficiency = min(min_combined)\n",
    "print(max_efficiency)\n",
    "print(min_efficiency)"
   ]
  },
  {
   "cell_type": "code",
   "execution_count": 14,
   "metadata": {},
   "outputs": [
    {
     "name": "stdout",
     "output_type": "stream",
     "text": [
      "United States Shapiro test:\n",
      "(0.7632715702056885, 2.5957964204628553e-34)\n",
      "\n",
      "United Kingdom Shapiro test:\n",
      "(0.9192771911621094, 1.693899165916383e-19)\n",
      "\n",
      "Australia Shapiro test:\n",
      "(0.9897814393043518, 0.029828308150172234)\n",
      "\n",
      "Brazil Shapiro test:\n",
      "(0.89468914270401, 2.0282462376286503e-09)\n",
      "\n",
      "Netherlands Shapiro test:\n",
      "(0.9422218203544617, 6.0626105550909415e-05)\n",
      "\n",
      "Spain Shapiro test:\n",
      "(0.9693619608879089, 0.01883879490196705)\n",
      "\n",
      "France Shapiro test:\n",
      "(0.9673664569854736, 0.019865695387125015)\n",
      "\n",
      "Italy Shapiro test:\n",
      "(0.9298325777053833, 0.00021745022968389094)\n",
      "\n",
      "Canada Shapiro test:\n",
      "(0.9319031238555908, 0.00047819496830925345)\n",
      "\n",
      "Germany Shapiro test:\n",
      "(0.9891421794891357, 0.8543123602867126)\n",
      "\n"
     ]
    }
   ],
   "source": [
    "# Shapiro test for normality for each country and printing each\n",
    "# result\n",
    "for country, country_name in zip(countries, country_names):\n",
    "    print(country_name + \" Shapiro test:\")\n",
    "    print(stats.shapiro(country))\n",
    "    print(\"\")"
   ]
  },
  {
   "cell_type": "code",
   "execution_count": 15,
   "metadata": {},
   "outputs": [
    {
     "name": "stdout",
     "output_type": "stream",
     "text": [
      "United States median efficiency:\n",
      "12.26049518753303\n",
      "\n",
      "United Kingdom median efficiency:\n",
      "11.818051774442582\n",
      "\n",
      "Australia median efficiency:\n",
      "12.954089022884006\n",
      "\n",
      "Brazil median efficiency:\n",
      "11.672640836811805\n",
      "\n",
      "Netherlands median efficiency:\n",
      "10.826496874798856\n",
      "\n",
      "Spain median efficiency:\n",
      "14.354605779913893\n",
      "\n",
      "France median efficiency:\n",
      "12.284850132955464\n",
      "\n",
      "Italy median efficiency:\n",
      "14.783903228740062\n",
      "\n",
      "Canada median efficiency:\n",
      "12.704269736602516\n",
      "\n",
      "Germany median efficiency:\n",
      "13.03603908315733\n",
      "\n"
     ]
    }
   ],
   "source": [
    "# Calculating median efficiency score for each country and \n",
    "# printing each value\n",
    "for country, country_name in zip(countries, country_names):\n",
    "    print(country_name + \" median efficiency:\")\n",
    "    print(str(country.median()) + \"\\n\")  \n",
    "    "
   ]
  },
  {
   "cell_type": "code",
   "execution_count": 16,
   "metadata": {},
   "outputs": [],
   "source": [
    "#Writing data frames to csv files for hypothesis testing in R.\n",
    "united_states.to_csv(\"united_states.csv\", header = True)\n",
    "united_kingdom.to_csv(\"united_kingdom.csv\", header = True)\n",
    "australia.to_csv(\"australia.csv\", header = True)\n",
    "brazil.to_csv(\"brazil.csv\", header = True)\n",
    "netherlands.to_csv(\"netherlands.csv\", header = True)\n",
    "spain.to_csv(\"spain.csv\", header = True)\n",
    "france.to_csv(\"france.csv\", header = True)\n",
    "italy.to_csv(\"italy.csv\", header = True)\n",
    "canada.to_csv(\"canada.csv\", header = True)\n",
    "germany.to_csv(\"germany.csv\", header = True)"
   ]
  }
 ],
 "metadata": {
  "kernelspec": {
   "display_name": "Python 3",
   "language": "python",
   "name": "python3"
  },
  "language_info": {
   "codemirror_mode": {
    "name": "ipython",
    "version": 3
   },
   "file_extension": ".py",
   "mimetype": "text/x-python",
   "name": "python",
   "nbconvert_exporter": "python",
   "pygments_lexer": "ipython3",
   "version": "3.6.5"
  }
 },
 "nbformat": 4,
 "nbformat_minor": 2
}
